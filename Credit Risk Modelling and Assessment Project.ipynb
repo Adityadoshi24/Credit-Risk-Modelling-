{
 "cells": [
  {
   "cell_type": "code",
   "execution_count": 1,
   "id": "9917ddd9",
   "metadata": {},
   "outputs": [],
   "source": [
    "import numpy as np\n",
    "import pandas as pd\n",
    "import os\n",
    "import warnings\n",
    "warnings.filterwarnings('ignore')\n",
    "import matplotlib.pyplot as plt\n",
    "import seaborn as sns"
   ]
  },
  {
   "cell_type": "code",
   "execution_count": 2,
   "id": "d7f8c02b",
   "metadata": {},
   "outputs": [],
   "source": [
    "\n",
    "\n",
    "os.chdir('C:\\\\Users\\\\Aditya\\\\Desktop\\\\Top Mentor\\\\Capstone Project\\\\Udemy Credit Risk Modelling Project\\\\')"
   ]
  },
  {
   "cell_type": "code",
   "execution_count": 3,
   "id": "9ab31ae1",
   "metadata": {},
   "outputs": [],
   "source": [
    "\n",
    "\n",
    "data = pd.read_csv('credit_risk_dataset.csv')"
   ]
  },
  {
   "cell_type": "code",
   "execution_count": 4,
   "id": "48c89ee3",
   "metadata": {},
   "outputs": [
    {
     "data": {
      "text/html": [
       "<div>\n",
       "<style scoped>\n",
       "    .dataframe tbody tr th:only-of-type {\n",
       "        vertical-align: middle;\n",
       "    }\n",
       "\n",
       "    .dataframe tbody tr th {\n",
       "        vertical-align: top;\n",
       "    }\n",
       "\n",
       "    .dataframe thead th {\n",
       "        text-align: right;\n",
       "    }\n",
       "</style>\n",
       "<table border=\"1\" class=\"dataframe\">\n",
       "  <thead>\n",
       "    <tr style=\"text-align: right;\">\n",
       "      <th></th>\n",
       "      <th>person_age</th>\n",
       "      <th>person_income</th>\n",
       "      <th>person_home_ownership</th>\n",
       "      <th>person_emp_length</th>\n",
       "      <th>loan_intent</th>\n",
       "      <th>loan_grade</th>\n",
       "      <th>loan_amnt</th>\n",
       "      <th>loan_int_rate</th>\n",
       "      <th>loan_status</th>\n",
       "      <th>loan_percent_income</th>\n",
       "      <th>cb_person_default_on_file</th>\n",
       "      <th>cb_person_cred_hist_length</th>\n",
       "    </tr>\n",
       "  </thead>\n",
       "  <tbody>\n",
       "    <tr>\n",
       "      <th>0</th>\n",
       "      <td>22</td>\n",
       "      <td>59000</td>\n",
       "      <td>RENT</td>\n",
       "      <td>123.0</td>\n",
       "      <td>PERSONAL</td>\n",
       "      <td>D</td>\n",
       "      <td>35000</td>\n",
       "      <td>16.02</td>\n",
       "      <td>1</td>\n",
       "      <td>0.59</td>\n",
       "      <td>Y</td>\n",
       "      <td>3</td>\n",
       "    </tr>\n",
       "    <tr>\n",
       "      <th>1</th>\n",
       "      <td>21</td>\n",
       "      <td>9600</td>\n",
       "      <td>OWN</td>\n",
       "      <td>5.0</td>\n",
       "      <td>EDUCATION</td>\n",
       "      <td>B</td>\n",
       "      <td>1000</td>\n",
       "      <td>11.14</td>\n",
       "      <td>0</td>\n",
       "      <td>0.10</td>\n",
       "      <td>N</td>\n",
       "      <td>2</td>\n",
       "    </tr>\n",
       "    <tr>\n",
       "      <th>2</th>\n",
       "      <td>25</td>\n",
       "      <td>9600</td>\n",
       "      <td>MORTGAGE</td>\n",
       "      <td>1.0</td>\n",
       "      <td>MEDICAL</td>\n",
       "      <td>C</td>\n",
       "      <td>5500</td>\n",
       "      <td>12.87</td>\n",
       "      <td>1</td>\n",
       "      <td>0.57</td>\n",
       "      <td>N</td>\n",
       "      <td>3</td>\n",
       "    </tr>\n",
       "    <tr>\n",
       "      <th>3</th>\n",
       "      <td>23</td>\n",
       "      <td>65500</td>\n",
       "      <td>RENT</td>\n",
       "      <td>4.0</td>\n",
       "      <td>MEDICAL</td>\n",
       "      <td>C</td>\n",
       "      <td>35000</td>\n",
       "      <td>15.23</td>\n",
       "      <td>1</td>\n",
       "      <td>0.53</td>\n",
       "      <td>N</td>\n",
       "      <td>2</td>\n",
       "    </tr>\n",
       "    <tr>\n",
       "      <th>4</th>\n",
       "      <td>24</td>\n",
       "      <td>54400</td>\n",
       "      <td>RENT</td>\n",
       "      <td>8.0</td>\n",
       "      <td>MEDICAL</td>\n",
       "      <td>C</td>\n",
       "      <td>35000</td>\n",
       "      <td>14.27</td>\n",
       "      <td>1</td>\n",
       "      <td>0.55</td>\n",
       "      <td>Y</td>\n",
       "      <td>4</td>\n",
       "    </tr>\n",
       "  </tbody>\n",
       "</table>\n",
       "</div>"
      ],
      "text/plain": [
       "   person_age  person_income person_home_ownership  person_emp_length  \\\n",
       "0          22          59000                  RENT              123.0   \n",
       "1          21           9600                   OWN                5.0   \n",
       "2          25           9600              MORTGAGE                1.0   \n",
       "3          23          65500                  RENT                4.0   \n",
       "4          24          54400                  RENT                8.0   \n",
       "\n",
       "  loan_intent loan_grade  loan_amnt  loan_int_rate  loan_status  \\\n",
       "0    PERSONAL          D      35000          16.02            1   \n",
       "1   EDUCATION          B       1000          11.14            0   \n",
       "2     MEDICAL          C       5500          12.87            1   \n",
       "3     MEDICAL          C      35000          15.23            1   \n",
       "4     MEDICAL          C      35000          14.27            1   \n",
       "\n",
       "   loan_percent_income cb_person_default_on_file  cb_person_cred_hist_length  \n",
       "0                 0.59                         Y                           3  \n",
       "1                 0.10                         N                           2  \n",
       "2                 0.57                         N                           3  \n",
       "3                 0.53                         N                           2  \n",
       "4                 0.55                         Y                           4  "
      ]
     },
     "metadata": {},
     "output_type": "display_data"
    }
   ],
   "source": [
    "display(data.head())"
   ]
  },
  {
   "cell_type": "code",
   "execution_count": 5,
   "id": "e096df26",
   "metadata": {},
   "outputs": [
    {
     "data": {
      "text/html": [
       "<div>\n",
       "<style scoped>\n",
       "    .dataframe tbody tr th:only-of-type {\n",
       "        vertical-align: middle;\n",
       "    }\n",
       "\n",
       "    .dataframe tbody tr th {\n",
       "        vertical-align: top;\n",
       "    }\n",
       "\n",
       "    .dataframe thead th {\n",
       "        text-align: right;\n",
       "    }\n",
       "</style>\n",
       "<table border=\"1\" class=\"dataframe\">\n",
       "  <thead>\n",
       "    <tr style=\"text-align: right;\">\n",
       "      <th></th>\n",
       "      <th>person_age</th>\n",
       "      <th>person_income</th>\n",
       "      <th>person_home_ownership</th>\n",
       "      <th>person_emp_length</th>\n",
       "      <th>loan_intent</th>\n",
       "      <th>loan_grade</th>\n",
       "      <th>loan_amnt</th>\n",
       "      <th>loan_int_rate</th>\n",
       "      <th>loan_status</th>\n",
       "      <th>loan_percent_income</th>\n",
       "      <th>cb_person_default_on_file</th>\n",
       "      <th>cb_person_cred_hist_length</th>\n",
       "    </tr>\n",
       "  </thead>\n",
       "  <tbody>\n",
       "    <tr>\n",
       "      <th>32576</th>\n",
       "      <td>57</td>\n",
       "      <td>53000</td>\n",
       "      <td>MORTGAGE</td>\n",
       "      <td>1.0</td>\n",
       "      <td>PERSONAL</td>\n",
       "      <td>C</td>\n",
       "      <td>5800</td>\n",
       "      <td>13.16</td>\n",
       "      <td>0</td>\n",
       "      <td>0.11</td>\n",
       "      <td>N</td>\n",
       "      <td>30</td>\n",
       "    </tr>\n",
       "    <tr>\n",
       "      <th>32577</th>\n",
       "      <td>54</td>\n",
       "      <td>120000</td>\n",
       "      <td>MORTGAGE</td>\n",
       "      <td>4.0</td>\n",
       "      <td>PERSONAL</td>\n",
       "      <td>A</td>\n",
       "      <td>17625</td>\n",
       "      <td>7.49</td>\n",
       "      <td>0</td>\n",
       "      <td>0.15</td>\n",
       "      <td>N</td>\n",
       "      <td>19</td>\n",
       "    </tr>\n",
       "    <tr>\n",
       "      <th>32578</th>\n",
       "      <td>65</td>\n",
       "      <td>76000</td>\n",
       "      <td>RENT</td>\n",
       "      <td>3.0</td>\n",
       "      <td>HOMEIMPROVEMENT</td>\n",
       "      <td>B</td>\n",
       "      <td>35000</td>\n",
       "      <td>10.99</td>\n",
       "      <td>1</td>\n",
       "      <td>0.46</td>\n",
       "      <td>N</td>\n",
       "      <td>28</td>\n",
       "    </tr>\n",
       "    <tr>\n",
       "      <th>32579</th>\n",
       "      <td>56</td>\n",
       "      <td>150000</td>\n",
       "      <td>MORTGAGE</td>\n",
       "      <td>5.0</td>\n",
       "      <td>PERSONAL</td>\n",
       "      <td>B</td>\n",
       "      <td>15000</td>\n",
       "      <td>11.48</td>\n",
       "      <td>0</td>\n",
       "      <td>0.10</td>\n",
       "      <td>N</td>\n",
       "      <td>26</td>\n",
       "    </tr>\n",
       "    <tr>\n",
       "      <th>32580</th>\n",
       "      <td>66</td>\n",
       "      <td>42000</td>\n",
       "      <td>RENT</td>\n",
       "      <td>2.0</td>\n",
       "      <td>MEDICAL</td>\n",
       "      <td>B</td>\n",
       "      <td>6475</td>\n",
       "      <td>9.99</td>\n",
       "      <td>0</td>\n",
       "      <td>0.15</td>\n",
       "      <td>N</td>\n",
       "      <td>30</td>\n",
       "    </tr>\n",
       "  </tbody>\n",
       "</table>\n",
       "</div>"
      ],
      "text/plain": [
       "       person_age  person_income person_home_ownership  person_emp_length  \\\n",
       "32576          57          53000              MORTGAGE                1.0   \n",
       "32577          54         120000              MORTGAGE                4.0   \n",
       "32578          65          76000                  RENT                3.0   \n",
       "32579          56         150000              MORTGAGE                5.0   \n",
       "32580          66          42000                  RENT                2.0   \n",
       "\n",
       "           loan_intent loan_grade  loan_amnt  loan_int_rate  loan_status  \\\n",
       "32576         PERSONAL          C       5800          13.16            0   \n",
       "32577         PERSONAL          A      17625           7.49            0   \n",
       "32578  HOMEIMPROVEMENT          B      35000          10.99            1   \n",
       "32579         PERSONAL          B      15000          11.48            0   \n",
       "32580          MEDICAL          B       6475           9.99            0   \n",
       "\n",
       "       loan_percent_income cb_person_default_on_file  \\\n",
       "32576                 0.11                         N   \n",
       "32577                 0.15                         N   \n",
       "32578                 0.46                         N   \n",
       "32579                 0.10                         N   \n",
       "32580                 0.15                         N   \n",
       "\n",
       "       cb_person_cred_hist_length  \n",
       "32576                          30  \n",
       "32577                          19  \n",
       "32578                          28  \n",
       "32579                          26  \n",
       "32580                          30  "
      ]
     },
     "metadata": {},
     "output_type": "display_data"
    }
   ],
   "source": [
    "display(data.tail())"
   ]
  },
  {
   "cell_type": "code",
   "execution_count": 6,
   "id": "f6725ce7",
   "metadata": {},
   "outputs": [
    {
     "name": "stdout",
     "output_type": "stream",
     "text": [
      "<class 'pandas.core.frame.DataFrame'>\n",
      "RangeIndex: 32581 entries, 0 to 32580\n",
      "Data columns (total 12 columns):\n",
      " #   Column                      Non-Null Count  Dtype  \n",
      "---  ------                      --------------  -----  \n",
      " 0   person_age                  32581 non-null  int64  \n",
      " 1   person_income               32581 non-null  int64  \n",
      " 2   person_home_ownership       32581 non-null  object \n",
      " 3   person_emp_length           31686 non-null  float64\n",
      " 4   loan_intent                 32581 non-null  object \n",
      " 5   loan_grade                  32581 non-null  object \n",
      " 6   loan_amnt                   32581 non-null  int64  \n",
      " 7   loan_int_rate               29465 non-null  float64\n",
      " 8   loan_status                 32581 non-null  int64  \n",
      " 9   loan_percent_income         32581 non-null  float64\n",
      " 10  cb_person_default_on_file   32581 non-null  object \n",
      " 11  cb_person_cred_hist_length  32581 non-null  int64  \n",
      "dtypes: float64(3), int64(5), object(4)\n",
      "memory usage: 3.0+ MB\n"
     ]
    }
   ],
   "source": [
    "data.info()"
   ]
  },
  {
   "cell_type": "code",
   "execution_count": 7,
   "id": "e1fc2e5e",
   "metadata": {},
   "outputs": [
    {
     "data": {
      "text/plain": [
       "(32581, 12)"
      ]
     },
     "execution_count": 7,
     "metadata": {},
     "output_type": "execute_result"
    }
   ],
   "source": [
    "data.shape"
   ]
  },
  {
   "cell_type": "code",
   "execution_count": 8,
   "id": "4b977349",
   "metadata": {},
   "outputs": [
    {
     "data": {
      "text/plain": [
       "Index(['person_age', 'person_income', 'person_home_ownership',\n",
       "       'person_emp_length', 'loan_intent', 'loan_grade', 'loan_amnt',\n",
       "       'loan_int_rate', 'loan_status', 'loan_percent_income',\n",
       "       'cb_person_default_on_file', 'cb_person_cred_hist_length'],\n",
       "      dtype='object')"
      ]
     },
     "execution_count": 8,
     "metadata": {},
     "output_type": "execute_result"
    }
   ],
   "source": [
    "data.columns"
   ]
  },
  {
   "cell_type": "code",
   "execution_count": 9,
   "id": "ed2e297a",
   "metadata": {},
   "outputs": [
    {
     "data": {
      "text/plain": [
       "person_age                      int64\n",
       "person_income                   int64\n",
       "person_home_ownership          object\n",
       "person_emp_length             float64\n",
       "loan_intent                    object\n",
       "loan_grade                     object\n",
       "loan_amnt                       int64\n",
       "loan_int_rate                 float64\n",
       "loan_status                     int64\n",
       "loan_percent_income           float64\n",
       "cb_person_default_on_file      object\n",
       "cb_person_cred_hist_length      int64\n",
       "dtype: object"
      ]
     },
     "execution_count": 9,
     "metadata": {},
     "output_type": "execute_result"
    }
   ],
   "source": [
    "data.dtypes"
   ]
  },
  {
   "cell_type": "code",
   "execution_count": 10,
   "id": "014426db",
   "metadata": {},
   "outputs": [
    {
     "data": {
      "text/plain": [
       "person_age                       0\n",
       "person_income                    0\n",
       "person_home_ownership            0\n",
       "person_emp_length              895\n",
       "loan_intent                      0\n",
       "loan_grade                       0\n",
       "loan_amnt                        0\n",
       "loan_int_rate                 3116\n",
       "loan_status                      0\n",
       "loan_percent_income              0\n",
       "cb_person_default_on_file        0\n",
       "cb_person_cred_hist_length       0\n",
       "dtype: int64"
      ]
     },
     "execution_count": 10,
     "metadata": {},
     "output_type": "execute_result"
    }
   ],
   "source": [
    "# Checking the null values\n",
    "\n",
    "data.isnull().sum()"
   ]
  },
  {
   "cell_type": "code",
   "execution_count": 11,
   "id": "032174db",
   "metadata": {},
   "outputs": [],
   "source": [
    "# Since we have lots of data so instead of filling missing values we can remove them\n",
    "\n",
    "data.dropna(axis=0,inplace=True)"
   ]
  },
  {
   "cell_type": "code",
   "execution_count": 12,
   "id": "00138164",
   "metadata": {},
   "outputs": [
    {
     "data": {
      "text/plain": [
       "person_age                    0\n",
       "person_income                 0\n",
       "person_home_ownership         0\n",
       "person_emp_length             0\n",
       "loan_intent                   0\n",
       "loan_grade                    0\n",
       "loan_amnt                     0\n",
       "loan_int_rate                 0\n",
       "loan_status                   0\n",
       "loan_percent_income           0\n",
       "cb_person_default_on_file     0\n",
       "cb_person_cred_hist_length    0\n",
       "dtype: int64"
      ]
     },
     "execution_count": 12,
     "metadata": {},
     "output_type": "execute_result"
    }
   ],
   "source": [
    "# Checking if missing values dropped\n",
    "\n",
    "data.isnull().sum()"
   ]
  },
  {
   "cell_type": "code",
   "execution_count": 13,
   "id": "b69b558a",
   "metadata": {},
   "outputs": [
    {
     "data": {
      "text/plain": [
       "137"
      ]
     },
     "execution_count": 13,
     "metadata": {},
     "output_type": "execute_result"
    }
   ],
   "source": [
    "# checking the counts of duplicates\n",
    "\n",
    "data.duplicated().sum()"
   ]
  },
  {
   "cell_type": "code",
   "execution_count": 14,
   "id": "ad2f3bf8",
   "metadata": {},
   "outputs": [],
   "source": [
    "# removing duplicate values \n",
    "\n",
    "data.drop_duplicates(inplace=True)"
   ]
  },
  {
   "cell_type": "code",
   "execution_count": 15,
   "id": "2c5a968d",
   "metadata": {},
   "outputs": [
    {
     "data": {
      "text/plain": [
       "0"
      ]
     },
     "execution_count": 15,
     "metadata": {},
     "output_type": "execute_result"
    }
   ],
   "source": [
    "# Checking if duplicates values removed\n",
    "\n",
    "data.duplicated().sum()"
   ]
  },
  {
   "cell_type": "code",
   "execution_count": 16,
   "id": "6e37ce7d",
   "metadata": {},
   "outputs": [
    {
     "name": "stdout",
     "output_type": "stream",
     "text": [
      "         Loan Intent  Default Count  Average Loan Amount\n",
      "3            MEDICAL           1418         11373.748237\n",
      "0  DEBTCONSOLIDATION           1294         11316.750386\n",
      "1          EDUCATION            967         11160.082730\n",
      "4           PERSONAL            961         10708.896982\n",
      "2    HOMEIMPROVEMENT            820          9966.067073\n",
      "5            VENTURE            728         11304.910714\n",
      "         Loan Intent  Default Count  Average Loan Amount\n",
      "3            MEDICAL           1418         11373.748237\n",
      "0  DEBTCONSOLIDATION           1294         11316.750386\n",
      "5            VENTURE            728         11304.910714\n",
      "1          EDUCATION            967         11160.082730\n",
      "4           PERSONAL            961         10708.896982\n",
      "2    HOMEIMPROVEMENT            820          9966.067073\n"
     ]
    },
    {
     "data": {
      "image/png": "[encoded data removed]",
      "text/plain": [
       "<Figure size 1008x576 with 2 Axes>"
      ]
     },
     "metadata": {
      "needs_background": "light"
     },
     "output_type": "display_data"
    }
   ],
   "source": [
    "default_cases = data[data['loan_status'] == 1]\n",
    "loan_intent_default_cases = default_cases.groupby('loan_intent')['loan_status'].count().reset_index()\n",
    "loan_intent_default_cases.columns = ['Loan Intent','Default Count']\n",
    "loan_intent_avg_loan_amt = default_cases.groupby('loan_intent')['loan_amnt'].mean().reset_index()\n",
    "loan_intent_avg_loan_amt.columns = ['Loan Intent','Average Loan Amount']\n",
    "loan_intent_default_summary = pd.merge(loan_intent_default_cases,loan_intent_avg_loan_amt,\n",
    "                                       on='Loan Intent')\n",
    "loan_intent_default_summary.sort_values(by = 'Default Count',ascending=False)\n",
    "defaultcount = loan_intent_default_summary.sort_values(by = 'Default Count',ascending=False)\n",
    "print(defaultcount)\n",
    "averageloanamount = loan_intent_default_summary.sort_values(by = \"Average Loan Amount\",\n",
    "                                                            ascending=False)\n",
    "print(averageloanamount)\n",
    "fig,ax1= plt.subplots(figsize = (14,8))\n",
    "sns.barplot(x = 'Default Count',y = 'Loan Intent',data = loan_intent_default_summary,palette='viridis',\n",
    "           ax = ax1)\n",
    "ax1.set_title('Count of Default by Loan Intent with Average Loan AMount ')\n",
    "ax1.set_xlabel('Count of Defaults')\n",
    "ax1.set_ylabel('Loan Intent')\n",
    "ax2 = ax1.twiny()\n",
    "sns.scatterplot(x = 'Average Loan Amount',y = 'Loan Intent',data = loan_intent_default_summary,\n",
    "               color = 'red',ax = ax2)\n",
    "plt.show()"
   ]
  },
  {
   "cell_type": "code",
   "execution_count": 17,
   "id": "ee13d00e",
   "metadata": {},
   "outputs": [],
   "source": [
    "from sklearn.preprocessing import StandardScaler,OneHotEncoder\n",
    "from sklearn.model_selection import train_test_split\n",
    "from sklearn.linear_model import LogisticRegression\n",
    "from sklearn.impute import SimpleImputer\n",
    "from sklearn.pipeline import Pipeline\n",
    "from sklearn.compose import ColumnTransformer\n",
    "from sklearn.metrics import classification_report,accuracy_score"
   ]
  },
  {
   "cell_type": "code",
   "execution_count": 18,
   "id": "6ac6762d",
   "metadata": {},
   "outputs": [],
   "source": [
    "x = data.iloc[:,[0,1,3,6,7,2,4,10]]"
   ]
  },
  {
   "cell_type": "code",
   "execution_count": 19,
   "id": "c22363e3",
   "metadata": {},
   "outputs": [],
   "source": [
    "y = data['loan_status']"
   ]
  },
  {
   "cell_type": "code",
   "execution_count": 20,
   "id": "bb556868",
   "metadata": {},
   "outputs": [],
   "source": [
    "x = x.drop(['loan_amnt'],axis = 1)"
   ]
  },
  {
   "cell_type": "code",
   "execution_count": 21,
   "id": "c4502d3e",
   "metadata": {},
   "outputs": [],
   "source": [
    "numeric_features = ['person_age','person_income','person_emp_length','loan_int_rate']\n",
    "categorical_features = ['person_home_ownership','loan_intent','cb_person_default_on_file']\n",
    "numeric_transformer = Pipeline(steps=[('imputer',SimpleImputer(strategy='median')),\n",
    "                                     ('scaler',StandardScaler())])\n",
    "categorical_transformer = Pipeline(steps=[('imputer',SimpleImputer(strategy='most_frequent')),\n",
    "                                      ('onehot',OneHotEncoder(handle_unknown='ignore'))])\n",
    "preprocessor = ColumnTransformer(transformers=[('num',numeric_transformer,numeric_features),\n",
    "                                              ('cat',categorical_transformer,categorical_features)])"
   ]
  },
  {
   "cell_type": "code",
   "execution_count": 22,
   "id": "db54e102",
   "metadata": {},
   "outputs": [
    {
     "name": "stdout",
     "output_type": "stream",
     "text": [
      "Accuracy Score: 0.8191545342922294\n",
      "\n",
      "\n",
      "Classification Report:               precision    recall  f1-score   support\n",
      "\n",
      "           0       0.84      0.95      0.89      4441\n",
      "           1       0.68      0.34      0.46      1260\n",
      "\n",
      "    accuracy                           0.82      5701\n",
      "   macro avg       0.76      0.65      0.67      5701\n",
      "weighted avg       0.80      0.82      0.80      5701\n",
      "\n"
     ]
    }
   ],
   "source": [
    "x_processed = preprocessor.fit_transform(x)\n",
    "\n",
    "x_train,x_test,y_train,y_test = train_test_split(x_processed,y,test_size=0.2,random_state=42)\n",
    "logistic_classifier = LogisticRegression(random_state=42).fit(x_train,y_train)\n",
    "y_pred = logistic_classifier.predict(x_test)\n",
    "print(\"Accuracy Score:\",accuracy_score(y_test,y_pred))\n",
    "print('\\n')\n",
    "print(\"Classification Report:\",classification_report(y_test,y_pred))\n",
    "categories = {\n",
    "    \"person_home_ownership\":['RENT', 'OWN', 'MORTGAGE', 'OTHER'],\n",
    "    'loan_intent':['PERSONAL', 'EDUCATION', 'MEDICAL', 'VENTURE', 'HOMEIMPROVEMENT',\n",
    "       'DEBTCONSOLIDATION'],\n",
    "    'cb_person_default_on_file':['Y', 'N']\n",
    "}\n",
    "categorical_columns = preprocessor.transformers_[1][1]['onehot'].get_feature_names_out(categorical_features)\n",
    "all_columns = numeric_features+list(categorical_columns)"
   ]
  },
  {
   "cell_type": "code",
   "execution_count": 23,
   "id": "7619c7d1",
   "metadata": {},
   "outputs": [
    {
     "name": "stdout",
     "output_type": "stream",
     "text": [
      "Applicants age:23\n",
      "Applicants Income:1000\n",
      "Applicants employement length:3\n",
      "Loan interest rate:3\n",
      "Loan Amount:10000\n",
      "Home Ownership (RENT/ OWN/ MORTGAGE/ OTHER)OTHER\n",
      "Loan intent (PERSONAL, EDUCATION, MEDICAL, VENTURE, HOMEIMPROVEMENT,DEBTCONSOLIDATION)VENTURE\n",
      "Ever defaulted before (Yes/No)NO\n",
      "User less likely to default\n"
     ]
    }
   ],
   "source": [
    "def predict_loan_default():\n",
    "    age = float(input('Applicants age:'))\n",
    "    income = float(input('Applicants Income:'))\n",
    "    emp_length = float(input('Applicants employement length:'))\n",
    "    loan_int_rate = float(input('Loan interest rate:'))\n",
    "    loan_amnt = float(input('Loan Amount:'))\n",
    "    loan_percent_Income = loan_amnt/income\n",
    "    home_ownership = input('Home Ownership (RENT/ OWN/ MORTGAGE/ OTHER)')\n",
    "    loan_intent = input('Loan intent (PERSONAL, EDUCATION, MEDICAL, VENTURE, HOMEIMPROVEMENT,DEBTCONSOLIDATION)')\n",
    "    default_hist = input('Ever defaulted before (Yes/No)')\n",
    "    input_data = {\n",
    "        \"person_age\":[age],'person_income':[income],'person_emp_length':[emp_length],'loan_int_rate':\n",
    "        [loan_int_rate]\n",
    "    }\n",
    "    for category,values in zip(['person_home_ownership','loan_intent','cb_person_default_on_file'],\n",
    "                                [home_ownership,loan_intent,default_hist]):\n",
    "        for val in categories[category]:\n",
    "            input_data[f'{category}_{val}'] = [1 if values == val else 0]\n",
    "    input_data = pd.DataFrame(input_data)\n",
    "    for col in all_columns:\n",
    "        if col not in input_data.columns:\n",
    "             input_data[col] = 0\n",
    "    input_data = input_data[all_columns]\n",
    "    prediction = logistic_classifier.predict(input_data)[0]\n",
    "    if prediction == 1:\n",
    "        print('User mostly likely to default')\n",
    "    else:\n",
    "        print('User less likely to default')                      \n",
    "predict_loan_default()"
   ]
  },
  {
   "cell_type": "code",
   "execution_count": 24,
   "id": "7b704c5d",
   "metadata": {},
   "outputs": [],
   "source": [
    "from sklearn.ensemble import RandomForestClassifier"
   ]
  },
  {
   "cell_type": "code",
   "execution_count": 25,
   "id": "99c3d3fb",
   "metadata": {},
   "outputs": [
    {
     "name": "stdout",
     "output_type": "stream",
     "text": [
      "Accuracy Score: 0.858972110156113\n",
      "\n",
      "\n",
      "Classification Report:               precision    recall  f1-score   support\n",
      "\n",
      "           0       0.87      0.96      0.91      4441\n",
      "           1       0.77      0.52      0.62      1260\n",
      "\n",
      "    accuracy                           0.86      5701\n",
      "   macro avg       0.82      0.74      0.77      5701\n",
      "weighted avg       0.85      0.86      0.85      5701\n",
      "\n",
      "Applicants age:28\n",
      "Applicants Income:52000\n",
      "Applicants employement length:8\n",
      "Loan interest rate:8\n",
      "Loan Amount:20000\n",
      "Home Ownership (RENT/ OWN/ MORTGAGE/ OTHER)RENT\n",
      "Loan intent (PERSONAL, EDUCATION, MEDICAL, VENTURE, HOMEIMPROVEMENT,DEBTCONSOLIDATION)PERSONAL\n",
      "Ever defaulted before (Yes/No)Yes\n",
      "User less likely to default\n"
     ]
    }
   ],
   "source": [
    "numeric_features = ['person_age','person_income','person_emp_length','loan_int_rate']\n",
    "categorical_features = ['person_home_ownership','loan_intent','cb_person_default_on_file']\n",
    "numeric_transformer = Pipeline(steps=[('imputer',SimpleImputer(strategy='median')),\n",
    "                                     ('scaler',StandardScaler())])\n",
    "categorical_transformer = Pipeline(steps=[('imputer',SimpleImputer(strategy='most_frequent')),\n",
    "                                      ('onehot',OneHotEncoder(handle_unknown='ignore'))])\n",
    "preprocessor = ColumnTransformer(transformers=[('num',numeric_transformer,numeric_features),\n",
    "                                              ('cat',categorical_transformer,categorical_features)])\n",
    "x_processed = preprocessor.fit_transform(x)\n",
    "\n",
    "x_train,x_test,y_train,y_test = train_test_split(x_processed,y,test_size=0.2,random_state=42)\n",
    "random_forest_classifier = RandomForestClassifier(random_state=42).fit(x_train,y_train)\n",
    "\n",
    "\n",
    "\n",
    "y_pred = random_forest_classifier.predict(x_test)\n",
    "print(\"Accuracy Score:\",accuracy_score(y_test,y_pred))\n",
    "print('\\n')\n",
    "print(\"Classification Report:\",classification_report(y_test,y_pred))\n",
    "\n",
    "# Loading and saving the default prediction model\n",
    "\n",
    "import pickle\n",
    "\n",
    "with open ('Default_Prediction_Model','wb') as f:\n",
    "    pickle.dump(random_forest_classifier,f)\n",
    "    \n",
    "    \n",
    "categories = {\n",
    "    \"person_home_ownership\":['RENT', 'OWN', 'MORTGAGE', 'OTHER'],\n",
    "    'loan_intent':['PERSONAL', 'EDUCATION', 'MEDICAL', 'VENTURE', 'HOMEIMPROVEMENT',\n",
    "       'DEBTCONSOLIDATION'],\n",
    "    'cb_person_default_on_file':['Y', 'N']\n",
    "}\n",
    "categorical_columns = preprocessor.transformers_[1][1]['onehot'].get_feature_names_out(categorical_features)\n",
    "all_columns = numeric_features+list(categorical_columns)\n",
    "\n",
    "def predict_loan_default():\n",
    "    age = float(input('Applicants age:'))\n",
    "    income = float(input('Applicants Income:'))\n",
    "    emp_length = float(input('Applicants employement length:'))\n",
    "    loan_int_rate = float(input('Loan interest rate:'))\n",
    "    loan_amnt = float(input('Loan Amount:'))\n",
    "    loan_percent_Income = loan_amnt/income\n",
    "    home_ownership = input('Home Ownership (RENT/ OWN/ MORTGAGE/ OTHER)')\n",
    "    loan_intent = input('Loan intent (PERSONAL, EDUCATION, MEDICAL, VENTURE, HOMEIMPROVEMENT,DEBTCONSOLIDATION)')\n",
    "    default_hist = input('Ever defaulted before (Yes/No)')\n",
    "    input_data = {\n",
    "        \"person_age\":[age],'person_income':[income],'person_emp_length':[emp_length],'loan_int_rate':\n",
    "        [loan_int_rate]\n",
    "    }\n",
    "    for category,values in zip(['person_home_ownership','loan_intent','cb_person_default_on_file'],\n",
    "                                [home_ownership,loan_intent,default_hist]):\n",
    "        for val in categories[category]:\n",
    "            input_data[f'{category}_{val}'] = [1 if values == val else 0]\n",
    "    input_data = pd.DataFrame(input_data)\n",
    "    for col in all_columns:\n",
    "        if col not in input_data.columns:\n",
    "             input_data[col] = 0\n",
    "    input_data = input_data[all_columns]\n",
    "    prediction = random_forest_classifier.predict(input_data)[0]\n",
    "    if prediction == 1:\n",
    "        print('User mostly likely to default')\n",
    "    else:\n",
    "        print('User less likely to default')                      \n",
    "predict_loan_default()"
   ]
  },
  {
   "cell_type": "code",
   "execution_count": 26,
   "id": "3e546b6b",
   "metadata": {},
   "outputs": [
    {
     "name": "stdout",
     "output_type": "stream",
     "text": [
      "Accuracy Score: 0.8152955621820733\n",
      "\n",
      "\n",
      "Classification Report:               precision    recall  f1-score   support\n",
      "\n",
      "           0       0.84      0.93      0.89      4441\n",
      "           1       0.63      0.39      0.49      1260\n",
      "\n",
      "    accuracy                           0.82      5701\n",
      "   macro avg       0.74      0.66      0.69      5701\n",
      "weighted avg       0.80      0.82      0.80      5701\n",
      "\n",
      "Applicants age:45\n",
      "Applicants Income:100000\n",
      "Applicants employement length:15\n",
      "Loan interest rate:3\n",
      "Loan Amount:1000000\n",
      "Home Ownership (RENT/ OWN/ MORTGAGE/ OTHER)OTHER\n",
      "Loan intent (PERSONAL, EDUCATION, MEDICAL, VENTURE, HOMEIMPROVEMENT,DEBTCONSOLIDATION)MEDICAL\n",
      "Ever defaulted before (Yes/No)No\n",
      "User less likely to default\n"
     ]
    }
   ],
   "source": [
    "from sklearn.neighbors import KNeighborsClassifier\n",
    "numeric_features = ['person_age','person_income','person_emp_length','loan_int_rate']\n",
    "categorical_features = ['person_home_ownership','loan_intent','cb_person_default_on_file']\n",
    "numeric_transformer = Pipeline(steps=[('imputer',SimpleImputer(strategy='median')),\n",
    "                                     ('scaler',StandardScaler())])\n",
    "categorical_transformer = Pipeline(steps=[('imputer',SimpleImputer(strategy='most_frequent')),\n",
    "                                      ('onehot',OneHotEncoder(handle_unknown='ignore'))])\n",
    "preprocessor = ColumnTransformer(transformers=[('num',numeric_transformer,numeric_features),\n",
    "                                              ('cat',categorical_transformer,categorical_features)])\n",
    "x_processed = preprocessor.fit_transform(x)\n",
    "\n",
    "x_train,x_test,y_train,y_test = train_test_split(x_processed,y,test_size=0.2,random_state=42)\n",
    "knn_classifier = KNeighborsClassifier().fit(x_train,y_train)\n",
    "y_pred = knn_classifier.predict(x_test)\n",
    "print(\"Accuracy Score:\",accuracy_score(y_test,y_pred))\n",
    "print('\\n')\n",
    "print(\"Classification Report:\",classification_report(y_test,y_pred))\n",
    "categories = {\n",
    "    \"person_home_ownership\":['RENT', 'OWN', 'MORTGAGE', 'OTHER'],\n",
    "    'loan_intent':['PERSONAL', 'EDUCATION', 'MEDICAL', 'VENTURE', 'HOMEIMPROVEMENT',\n",
    "       'DEBTCONSOLIDATION'],\n",
    "    'cb_person_default_on_file':['Y', 'N']\n",
    "}\n",
    "categorical_columns = preprocessor.transformers_[1][1]['onehot'].get_feature_names_out(categorical_features)\n",
    "all_columns = numeric_features+list(categorical_columns)\n",
    "\n",
    "def predict_loan_default():\n",
    "    age = float(input('Applicants age:'))\n",
    "    income = float(input('Applicants Income:'))\n",
    "    emp_length = float(input('Applicants employement length:'))\n",
    "    loan_int_rate = float(input('Loan interest rate:'))\n",
    "    loan_amnt = float(input('Loan Amount:'))\n",
    "    loan_percent_Income = loan_amnt/income\n",
    "    home_ownership = input('Home Ownership (RENT/ OWN/ MORTGAGE/ OTHER)')\n",
    "    loan_intent = input('Loan intent (PERSONAL, EDUCATION, MEDICAL, VENTURE, HOMEIMPROVEMENT,DEBTCONSOLIDATION)')\n",
    "    default_hist = input('Ever defaulted before (Yes/No)')\n",
    "    input_data = {\n",
    "        \"person_age\":[age],'person_income':[income],'person_emp_length':[emp_length],'loan_int_rate':\n",
    "        [loan_int_rate]\n",
    "    }\n",
    "    for category,values in zip(['person_home_ownership','loan_intent','cb_person_default_on_file'],\n",
    "                                [home_ownership,loan_intent,default_hist]):\n",
    "        for val in categories[category]:\n",
    "            input_data[f'{category}_{val}'] = [1 if values == val else 0]\n",
    "    input_data = pd.DataFrame(input_data)\n",
    "    for col in all_columns:\n",
    "        if col not in input_data.columns:\n",
    "             input_data[col] = 0\n",
    "    input_data = input_data[all_columns]\n",
    "    prediction = knn_classifier.predict(input_data)[0]\n",
    "    if prediction == 1:\n",
    "        print('User mostly likely to default')\n",
    "    else:\n",
    "        print('User less likely to default')                      \n",
    "predict_loan_default()"
   ]
  },
  {
   "cell_type": "code",
   "execution_count": 27,
   "id": "aff20d4e",
   "metadata": {},
   "outputs": [],
   "source": [
    "credit_score_data = pd.read_csv('credit_score.csv')"
   ]
  },
  {
   "cell_type": "code",
   "execution_count": 28,
   "id": "0741e337",
   "metadata": {},
   "outputs": [
    {
     "name": "stdout",
     "output_type": "stream",
     "text": [
      "correlation Between Debt and Credit Score:                    DEBT  CREDIT_SCORE\n",
      "DEBT          1.000000     -0.327231\n",
      "CREDIT_SCORE -0.327231      1.000000\n"
     ]
    },
    {
     "data": {
      "image/png": "[encoded data removed]",
      "text/plain": [
       "<Figure size 720x432 with 1 Axes>"
      ]
     },
     "metadata": {
      "needs_background": "light"
     },
     "output_type": "display_data"
    }
   ],
   "source": [
    "dataframe = credit_score_data[['DEBT','CREDIT_SCORE']]\n",
    "correlation = dataframe.corr()\n",
    "print(\"correlation Between Debt and Credit Score: \",correlation )\n",
    "plt.figure(figsize=(10,6))\n",
    "sns.scatterplot(x = 'DEBT',y = 'CREDIT_SCORE',data = dataframe,alpha = 0.7)\n",
    "plt.title('Relation Between Debt and Credit Score ')\n",
    "plt.xlabel('Debt')\n",
    "plt.ylabel('Credit Score')\n",
    "plt.grid(True)\n",
    "plt.tight_layout()\n",
    "plt.show()"
   ]
  },
  {
   "cell_type": "code",
   "execution_count": 29,
   "id": "2b59255a",
   "metadata": {},
   "outputs": [
    {
     "data": {
      "text/html": [
       "<div>\n",
       "<style scoped>\n",
       "    .dataframe tbody tr th:only-of-type {\n",
       "        vertical-align: middle;\n",
       "    }\n",
       "\n",
       "    .dataframe tbody tr th {\n",
       "        vertical-align: top;\n",
       "    }\n",
       "\n",
       "    .dataframe thead th {\n",
       "        text-align: right;\n",
       "    }\n",
       "</style>\n",
       "<table border=\"1\" class=\"dataframe\">\n",
       "  <thead>\n",
       "    <tr style=\"text-align: right;\">\n",
       "      <th></th>\n",
       "      <th>CUST_ID</th>\n",
       "      <th>INCOME</th>\n",
       "      <th>SAVINGS</th>\n",
       "      <th>DEBT</th>\n",
       "      <th>R_SAVINGS_INCOME</th>\n",
       "      <th>R_DEBT_INCOME</th>\n",
       "      <th>R_DEBT_SAVINGS</th>\n",
       "      <th>T_CLOTHING_12</th>\n",
       "      <th>T_CLOTHING_6</th>\n",
       "      <th>R_CLOTHING</th>\n",
       "      <th>...</th>\n",
       "      <th>R_EXPENDITURE_SAVINGS</th>\n",
       "      <th>R_EXPENDITURE_DEBT</th>\n",
       "      <th>CAT_GAMBLING</th>\n",
       "      <th>CAT_DEBT</th>\n",
       "      <th>CAT_CREDIT_CARD</th>\n",
       "      <th>CAT_MORTGAGE</th>\n",
       "      <th>CAT_SAVINGS_ACCOUNT</th>\n",
       "      <th>CAT_DEPENDENTS</th>\n",
       "      <th>CREDIT_SCORE</th>\n",
       "      <th>DEFAULT</th>\n",
       "    </tr>\n",
       "  </thead>\n",
       "  <tbody>\n",
       "    <tr>\n",
       "      <th>0</th>\n",
       "      <td>C02COQEVYU</td>\n",
       "      <td>33269</td>\n",
       "      <td>0</td>\n",
       "      <td>532304</td>\n",
       "      <td>0.0000</td>\n",
       "      <td>16.0000</td>\n",
       "      <td>1.2000</td>\n",
       "      <td>1889</td>\n",
       "      <td>945</td>\n",
       "      <td>0.5003</td>\n",
       "      <td>...</td>\n",
       "      <td>0.0000</td>\n",
       "      <td>0.0625</td>\n",
       "      <td>High</td>\n",
       "      <td>1</td>\n",
       "      <td>0</td>\n",
       "      <td>0</td>\n",
       "      <td>0</td>\n",
       "      <td>0</td>\n",
       "      <td>444</td>\n",
       "      <td>1</td>\n",
       "    </tr>\n",
       "    <tr>\n",
       "      <th>1</th>\n",
       "      <td>C02OZKC0ZF</td>\n",
       "      <td>77158</td>\n",
       "      <td>91187</td>\n",
       "      <td>315648</td>\n",
       "      <td>1.1818</td>\n",
       "      <td>4.0909</td>\n",
       "      <td>3.4615</td>\n",
       "      <td>5818</td>\n",
       "      <td>111</td>\n",
       "      <td>0.0191</td>\n",
       "      <td>...</td>\n",
       "      <td>0.7692</td>\n",
       "      <td>0.2222</td>\n",
       "      <td>No</td>\n",
       "      <td>1</td>\n",
       "      <td>0</td>\n",
       "      <td>0</td>\n",
       "      <td>1</td>\n",
       "      <td>0</td>\n",
       "      <td>625</td>\n",
       "      <td>0</td>\n",
       "    </tr>\n",
       "    <tr>\n",
       "      <th>2</th>\n",
       "      <td>C03FHP2D0A</td>\n",
       "      <td>30917</td>\n",
       "      <td>21642</td>\n",
       "      <td>534864</td>\n",
       "      <td>0.7000</td>\n",
       "      <td>17.3000</td>\n",
       "      <td>24.7142</td>\n",
       "      <td>1157</td>\n",
       "      <td>860</td>\n",
       "      <td>0.7433</td>\n",
       "      <td>...</td>\n",
       "      <td>1.4286</td>\n",
       "      <td>0.0578</td>\n",
       "      <td>High</td>\n",
       "      <td>1</td>\n",
       "      <td>0</td>\n",
       "      <td>0</td>\n",
       "      <td>1</td>\n",
       "      <td>0</td>\n",
       "      <td>469</td>\n",
       "      <td>1</td>\n",
       "    </tr>\n",
       "    <tr>\n",
       "      <th>3</th>\n",
       "      <td>C03PVPPHOY</td>\n",
       "      <td>80657</td>\n",
       "      <td>64526</td>\n",
       "      <td>629125</td>\n",
       "      <td>0.8000</td>\n",
       "      <td>7.8000</td>\n",
       "      <td>9.7499</td>\n",
       "      <td>6857</td>\n",
       "      <td>3686</td>\n",
       "      <td>0.5376</td>\n",
       "      <td>...</td>\n",
       "      <td>1.2500</td>\n",
       "      <td>0.1282</td>\n",
       "      <td>High</td>\n",
       "      <td>1</td>\n",
       "      <td>0</td>\n",
       "      <td>0</td>\n",
       "      <td>1</td>\n",
       "      <td>0</td>\n",
       "      <td>559</td>\n",
       "      <td>0</td>\n",
       "    </tr>\n",
       "    <tr>\n",
       "      <th>4</th>\n",
       "      <td>C04J69MUX0</td>\n",
       "      <td>149971</td>\n",
       "      <td>1172498</td>\n",
       "      <td>2399531</td>\n",
       "      <td>7.8182</td>\n",
       "      <td>16.0000</td>\n",
       "      <td>2.0465</td>\n",
       "      <td>1978</td>\n",
       "      <td>322</td>\n",
       "      <td>0.1628</td>\n",
       "      <td>...</td>\n",
       "      <td>0.1163</td>\n",
       "      <td>0.0568</td>\n",
       "      <td>High</td>\n",
       "      <td>1</td>\n",
       "      <td>1</td>\n",
       "      <td>1</td>\n",
       "      <td>1</td>\n",
       "      <td>1</td>\n",
       "      <td>473</td>\n",
       "      <td>0</td>\n",
       "    </tr>\n",
       "  </tbody>\n",
       "</table>\n",
       "<p>5 rows × 87 columns</p>\n",
       "</div>"
      ],
      "text/plain": [
       "      CUST_ID  INCOME  SAVINGS     DEBT  R_SAVINGS_INCOME  R_DEBT_INCOME  \\\n",
       "0  C02COQEVYU   33269        0   532304            0.0000        16.0000   \n",
       "1  C02OZKC0ZF   77158    91187   315648            1.1818         4.0909   \n",
       "2  C03FHP2D0A   30917    21642   534864            0.7000        17.3000   \n",
       "3  C03PVPPHOY   80657    64526   629125            0.8000         7.8000   \n",
       "4  C04J69MUX0  149971  1172498  2399531            7.8182        16.0000   \n",
       "\n",
       "   R_DEBT_SAVINGS  T_CLOTHING_12  T_CLOTHING_6  R_CLOTHING  ...  \\\n",
       "0          1.2000           1889           945      0.5003  ...   \n",
       "1          3.4615           5818           111      0.0191  ...   \n",
       "2         24.7142           1157           860      0.7433  ...   \n",
       "3          9.7499           6857          3686      0.5376  ...   \n",
       "4          2.0465           1978           322      0.1628  ...   \n",
       "\n",
       "   R_EXPENDITURE_SAVINGS  R_EXPENDITURE_DEBT  CAT_GAMBLING  CAT_DEBT  \\\n",
       "0                 0.0000              0.0625          High         1   \n",
       "1                 0.7692              0.2222            No         1   \n",
       "2                 1.4286              0.0578          High         1   \n",
       "3                 1.2500              0.1282          High         1   \n",
       "4                 0.1163              0.0568          High         1   \n",
       "\n",
       "   CAT_CREDIT_CARD  CAT_MORTGAGE  CAT_SAVINGS_ACCOUNT  CAT_DEPENDENTS  \\\n",
       "0                0             0                    0               0   \n",
       "1                0             0                    1               0   \n",
       "2                0             0                    1               0   \n",
       "3                0             0                    1               0   \n",
       "4                1             1                    1               1   \n",
       "\n",
       "   CREDIT_SCORE  DEFAULT  \n",
       "0           444        1  \n",
       "1           625        0  \n",
       "2           469        1  \n",
       "3           559        0  \n",
       "4           473        0  \n",
       "\n",
       "[5 rows x 87 columns]"
      ]
     },
     "execution_count": 29,
     "metadata": {},
     "output_type": "execute_result"
    }
   ],
   "source": [
    "credit_score_data.head()"
   ]
  },
  {
   "cell_type": "code",
   "execution_count": 30,
   "id": "4e4a542e",
   "metadata": {},
   "outputs": [
    {
     "data": {
      "text/html": [
       "<div>\n",
       "<style scoped>\n",
       "    .dataframe tbody tr th:only-of-type {\n",
       "        vertical-align: middle;\n",
       "    }\n",
       "\n",
       "    .dataframe tbody tr th {\n",
       "        vertical-align: top;\n",
       "    }\n",
       "\n",
       "    .dataframe thead th {\n",
       "        text-align: right;\n",
       "    }\n",
       "</style>\n",
       "<table border=\"1\" class=\"dataframe\">\n",
       "  <thead>\n",
       "    <tr style=\"text-align: right;\">\n",
       "      <th></th>\n",
       "      <th>INCOME</th>\n",
       "      <th>SAVINGS</th>\n",
       "      <th>DEBT</th>\n",
       "      <th>CAT_CREDIT_CARD</th>\n",
       "      <th>DEFAULT</th>\n",
       "    </tr>\n",
       "  </thead>\n",
       "  <tbody>\n",
       "    <tr>\n",
       "      <th>0</th>\n",
       "      <td>33269</td>\n",
       "      <td>0</td>\n",
       "      <td>532304</td>\n",
       "      <td>0</td>\n",
       "      <td>1</td>\n",
       "    </tr>\n",
       "    <tr>\n",
       "      <th>1</th>\n",
       "      <td>77158</td>\n",
       "      <td>91187</td>\n",
       "      <td>315648</td>\n",
       "      <td>0</td>\n",
       "      <td>0</td>\n",
       "    </tr>\n",
       "    <tr>\n",
       "      <th>2</th>\n",
       "      <td>30917</td>\n",
       "      <td>21642</td>\n",
       "      <td>534864</td>\n",
       "      <td>0</td>\n",
       "      <td>1</td>\n",
       "    </tr>\n",
       "    <tr>\n",
       "      <th>3</th>\n",
       "      <td>80657</td>\n",
       "      <td>64526</td>\n",
       "      <td>629125</td>\n",
       "      <td>0</td>\n",
       "      <td>0</td>\n",
       "    </tr>\n",
       "    <tr>\n",
       "      <th>4</th>\n",
       "      <td>149971</td>\n",
       "      <td>1172498</td>\n",
       "      <td>2399531</td>\n",
       "      <td>1</td>\n",
       "      <td>0</td>\n",
       "    </tr>\n",
       "    <tr>\n",
       "      <th>...</th>\n",
       "      <td>...</td>\n",
       "      <td>...</td>\n",
       "      <td>...</td>\n",
       "      <td>...</td>\n",
       "      <td>...</td>\n",
       "    </tr>\n",
       "    <tr>\n",
       "      <th>995</th>\n",
       "      <td>328892</td>\n",
       "      <td>1465066</td>\n",
       "      <td>5501471</td>\n",
       "      <td>1</td>\n",
       "      <td>0</td>\n",
       "    </tr>\n",
       "    <tr>\n",
       "      <th>996</th>\n",
       "      <td>81404</td>\n",
       "      <td>88805</td>\n",
       "      <td>680837</td>\n",
       "      <td>0</td>\n",
       "      <td>1</td>\n",
       "    </tr>\n",
       "    <tr>\n",
       "      <th>997</th>\n",
       "      <td>0</td>\n",
       "      <td>42428</td>\n",
       "      <td>30760</td>\n",
       "      <td>0</td>\n",
       "      <td>0</td>\n",
       "    </tr>\n",
       "    <tr>\n",
       "      <th>998</th>\n",
       "      <td>36011</td>\n",
       "      <td>8002</td>\n",
       "      <td>604181</td>\n",
       "      <td>1</td>\n",
       "      <td>0</td>\n",
       "    </tr>\n",
       "    <tr>\n",
       "      <th>999</th>\n",
       "      <td>44266</td>\n",
       "      <td>309859</td>\n",
       "      <td>44266</td>\n",
       "      <td>0</td>\n",
       "      <td>0</td>\n",
       "    </tr>\n",
       "  </tbody>\n",
       "</table>\n",
       "<p>1000 rows × 5 columns</p>\n",
       "</div>"
      ],
      "text/plain": [
       "     INCOME  SAVINGS     DEBT  CAT_CREDIT_CARD  DEFAULT\n",
       "0     33269        0   532304                0        1\n",
       "1     77158    91187   315648                0        0\n",
       "2     30917    21642   534864                0        1\n",
       "3     80657    64526   629125                0        0\n",
       "4    149971  1172498  2399531                1        0\n",
       "..      ...      ...      ...              ...      ...\n",
       "995  328892  1465066  5501471                1        0\n",
       "996   81404    88805   680837                0        1\n",
       "997       0    42428    30760                0        0\n",
       "998   36011     8002   604181                1        0\n",
       "999   44266   309859    44266                0        0\n",
       "\n",
       "[1000 rows x 5 columns]"
      ]
     },
     "execution_count": 30,
     "metadata": {},
     "output_type": "execute_result"
    }
   ],
   "source": [
    "x = credit_score_data[['INCOME','SAVINGS','DEBT','CAT_CREDIT_CARD','DEFAULT']]\n",
    "y = credit_score_data['CREDIT_SCORE']\n",
    "x"
   ]
  },
  {
   "cell_type": "code",
   "execution_count": 31,
   "id": "1b4706c8",
   "metadata": {},
   "outputs": [
    {
     "name": "stdout",
     "output_type": "stream",
     "text": [
      "Fitting 5 folds for each of 50 candidates, totalling 250 fits\n"
     ]
    }
   ],
   "source": [
    "# Hypertuning parameter using randomsearch\n",
    "\n",
    "from sklearn.metrics import mean_squared_error,mean_absolute_error\n",
    "from sklearn.model_selection import RandomizedSearchCV\n",
    "from scipy.stats import randint\n",
    "\n",
    "from sklearn.tree import DecisionTreeRegressor\n",
    "from sklearn.metrics import r2_score\n",
    "x_train,x_test,y_train,y_test = train_test_split(x,y,test_size=0.2,random_state=42)\n",
    "dt = DecisionTreeRegressor(random_state=42).fit(x_train,y_train)\n",
    "\n",
    "\n",
    "param_dist = {\n",
    "    \"max_depth\":randint(3,20),\n",
    "    \"min_samples_split\":randint(2,20),\n",
    "    \"min_samples_leaf\":randint(1,10),\n",
    "    \"max_features\":['sqrt','log2',None],\n",
    "    'criterion': ['squared_error', 'absolute_error']\n",
    "}\n",
    "\n",
    "random_search = RandomizedSearchCV(estimator=dt,param_distributions=param_dist,\n",
    "                                  n_iter=50,\n",
    "                                  cv = 5,\n",
    "                                  scoring='neg_mean_squared_error',\n",
    "                                  n_jobs=-1,\n",
    "                                  verbose=1,random_state=42).fit(x_train,y_train)\n",
    "random_search_pred = random_search.predict(x_test)\n",
    "\n"
   ]
  },
  {
   "cell_type": "code",
   "execution_count": 32,
   "id": "310824b8",
   "metadata": {},
   "outputs": [
    {
     "name": "stdout",
     "output_type": "stream",
     "text": [
      "Enter Customer Income: 20000\n",
      "Enter Customer saving: 200000\n",
      "Enter Customer Debt: 30000\n",
      "Enter 1 if custpmer has credit card or 0 for no: 0\n",
      "Enter 1 for default or 0 for no: 1\n",
      "Credit Score: 635.2352941176471\n"
     ]
    }
   ],
   "source": [
    "def predict_credit_score(income,savings,debt,cat_credit_card,default):\n",
    "    input_data = pd.DataFrame({\n",
    "        \"INCOME\":[income],\n",
    "        \"SAVINGS\":[savings],\n",
    "        \"DEBT\":[debt],\n",
    "        \"CAT_CREDIT_CARD\":[cat_credit_card],\n",
    "        \"DEAFULT\":[default]\n",
    "    })\n",
    "    credit_score_prediction = random_search.predict(input_data)\n",
    "    return credit_score_prediction[0]\n",
    "income = float(input(\"Enter Customer Income: \"))\n",
    "savings = float(input(\"Enter Customer saving: \"))\n",
    "debt = float(input(\"Enter Customer Debt: \"))\n",
    "cat_credit_card = int(input('Enter 1 if custpmer has credit card or 0 for no: '))\n",
    "default = int(input('Enter 1 for default or 0 for no: '))\n",
    "predicted_credit_score = predict_credit_score(income,savings,debt,cat_credit_card,default)\n",
    "print(\"Credit Score:\",predicted_credit_score)"
   ]
  },
  {
   "cell_type": "code",
   "execution_count": 33,
   "id": "24dc0e05",
   "metadata": {},
   "outputs": [],
   "source": [
    "# Loading and saving the Credit Scoring model\n",
    "\n",
    "import pickle\n",
    "with open ('Credit_Score_prediction_Model','wb') as f:\n",
    "    pickle.dump(random_search,f)"
   ]
  },
  {
   "cell_type": "code",
   "execution_count": null,
   "id": "735847d3",
   "metadata": {},
   "outputs": [],
   "source": []
  },
  {
   "cell_type": "code",
   "execution_count": null,
   "id": "35b30714",
   "metadata": {},
   "outputs": [],
   "source": []
  },
  {
   "cell_type": "code",
   "execution_count": null,
   "id": "e6a29c13",
   "metadata": {},
   "outputs": [],
   "source": []
  },
  {
   "cell_type": "code",
   "execution_count": null,
   "id": "97566541",
   "metadata": {},
   "outputs": [],
   "source": []
  },
  {
   "cell_type": "code",
   "execution_count": null,
   "id": "8ecc5899",
   "metadata": {},
   "outputs": [],
   "source": []
  },
  {
   "cell_type": "code",
   "execution_count": null,
   "id": "271016e3",
   "metadata": {},
   "outputs": [],
   "source": []
  },
  {
   "cell_type": "code",
   "execution_count": null,
   "id": "7e0760ef",
   "metadata": {},
   "outputs": [],
   "source": []
  },
  {
   "cell_type": "code",
   "execution_count": null,
   "id": "974e6e25",
   "metadata": {},
   "outputs": [],
   "source": []
  },
  {
   "cell_type": "code",
   "execution_count": null,
   "id": "bf5b4ddf",
   "metadata": {},
   "outputs": [],
   "source": []
  },
  {
   "cell_type": "code",
   "execution_count": null,
   "id": "4b24ee3d",
   "metadata": {},
   "outputs": [],
   "source": []
  },
  {
   "cell_type": "code",
   "execution_count": null,
   "id": "5f866b49",
   "metadata": {},
   "outputs": [],
   "source": []
  },
  {
   "cell_type": "code",
   "execution_count": null,
   "id": "db6a986b",
   "metadata": {},
   "outputs": [],
   "source": []
  },
  {
   "cell_type": "code",
   "execution_count": null,
   "id": "4f178932",
   "metadata": {},
   "outputs": [],
   "source": []
  },
  {
   "cell_type": "code",
   "execution_count": null,
   "id": "e467d07f",
   "metadata": {},
   "outputs": [],
   "source": []
  },
  {
   "cell_type": "code",
   "execution_count": null,
   "id": "cdf6203a",
   "metadata": {},
   "outputs": [],
   "source": []
  },
  {
   "cell_type": "code",
   "execution_count": null,
   "id": "8ce382f9",
   "metadata": {},
   "outputs": [],
   "source": []
  },
  {
   "cell_type": "code",
   "execution_count": null,
   "id": "e4509f68",
   "metadata": {},
   "outputs": [],
   "source": []
  },
  {
   "cell_type": "code",
   "execution_count": null,
   "id": "571ee026",
   "metadata": {},
   "outputs": [],
   "source": []
  },
  {
   "cell_type": "code",
   "execution_count": null,
   "id": "06c295af",
   "metadata": {},
   "outputs": [],
   "source": []
  },
  {
   "cell_type": "code",
   "execution_count": null,
   "id": "b1ec451e",
   "metadata": {},
   "outputs": [],
   "source": []
  },
  {
   "cell_type": "code",
   "execution_count": null,
   "id": "04186b0c",
   "metadata": {},
   "outputs": [],
   "source": []
  },
  {
   "cell_type": "code",
   "execution_count": null,
   "id": "6472a28f",
   "metadata": {},
   "outputs": [],
   "source": []
  },
  {
   "cell_type": "code",
   "execution_count": null,
   "id": "4408a095",
   "metadata": {},
   "outputs": [],
   "source": []
  },
  {
   "cell_type": "code",
   "execution_count": null,
   "id": "96961fb1",
   "metadata": {},
   "outputs": [],
   "source": []
  },
  {
   "cell_type": "code",
   "execution_count": null,
   "id": "1d7a2546",
   "metadata": {},
   "outputs": [],
   "source": []
  },
  {
   "cell_type": "code",
   "execution_count": null,
   "id": "ee8261ad",
   "metadata": {},
   "outputs": [],
   "source": []
  },
  {
   "cell_type": "code",
   "execution_count": null,
   "id": "32724101",
   "metadata": {},
   "outputs": [],
   "source": []
  },
  {
   "cell_type": "code",
   "execution_count": null,
   "id": "712595f6",
   "metadata": {},
   "outputs": [],
   "source": []
  },
  {
   "cell_type": "code",
   "execution_count": null,
   "id": "37175b11",
   "metadata": {},
   "outputs": [],
   "source": []
  },
  {
   "cell_type": "code",
   "execution_count": null,
   "id": "1016b0a0",
   "metadata": {},
   "outputs": [],
   "source": []
  },
  {
   "cell_type": "code",
   "execution_count": null,
   "id": "11848dd1",
   "metadata": {},
   "outputs": [],
   "source": []
  },
  {
   "cell_type": "code",
   "execution_count": null,
   "id": "2bac8c1e",
   "metadata": {},
   "outputs": [],
   "source": []
  },
  {
   "cell_type": "code",
   "execution_count": null,
   "id": "ffdc6490",
   "metadata": {},
   "outputs": [],
   "source": []
  },
  {
   "cell_type": "code",
   "execution_count": null,
   "id": "5e1a0dfe",
   "metadata": {},
   "outputs": [],
   "source": []
  },
  {
   "cell_type": "code",
   "execution_count": null,
   "id": "e89aef46",
   "metadata": {},
   "outputs": [],
   "source": []
  },
  {
   "cell_type": "code",
   "execution_count": null,
   "id": "ff5b9808",
   "metadata": {},
   "outputs": [],
   "source": []
  },
  {
   "cell_type": "code",
   "execution_count": null,
   "id": "9fc494cd",
   "metadata": {},
   "outputs": [],
   "source": []
  },
  {
   "cell_type": "code",
   "execution_count": null,
   "id": "d21bd82f",
   "metadata": {},
   "outputs": [],
   "source": []
  },
  {
   "cell_type": "code",
   "execution_count": null,
   "id": "0759e0ee",
   "metadata": {},
   "outputs": [],
   "source": []
  },
  {
   "cell_type": "code",
   "execution_count": null,
   "id": "1b1f9f2e",
   "metadata": {},
   "outputs": [],
   "source": []
  },
  {
   "cell_type": "code",
   "execution_count": null,
   "id": "395cacca",
   "metadata": {},
   "outputs": [],
   "source": []
  },
  {
   "cell_type": "code",
   "execution_count": null,
   "id": "88e1ef46",
   "metadata": {},
   "outputs": [],
   "source": []
  },
  {
   "cell_type": "code",
   "execution_count": null,
   "id": "c46d0ecb",
   "metadata": {},
   "outputs": [],
   "source": []
  },
  {
   "cell_type": "code",
   "execution_count": null,
   "id": "c24756ca",
   "metadata": {},
   "outputs": [],
   "source": []
  },
  {
   "cell_type": "code",
   "execution_count": null,
   "id": "6349d6e9",
   "metadata": {},
   "outputs": [],
   "source": []
  },
  {
   "cell_type": "code",
   "execution_count": null,
   "id": "48e539e8",
   "metadata": {},
   "outputs": [],
   "source": []
  },
  {
   "cell_type": "code",
   "execution_count": null,
   "id": "5fbb54c3",
   "metadata": {},
   "outputs": [],
   "source": []
  },
  {
   "cell_type": "code",
   "execution_count": null,
   "id": "036cd391",
   "metadata": {},
   "outputs": [],
   "source": []
  },
  {
   "cell_type": "code",
   "execution_count": null,
   "id": "057ee418",
   "metadata": {},
   "outputs": [],
   "source": []
  },
  {
   "cell_type": "code",
   "execution_count": null,
   "id": "ef7b2ed7",
   "metadata": {},
   "outputs": [],
   "source": []
  }
 ],
 "metadata": {
  "kernelspec": {
   "display_name": "Python 3.13",
   "language": "python",
   "name": "python313"
  },
  "language_info": {
   "codemirror_mode": {
    "name": "ipython",
    "version": 3
   },
   "file_extension": ".py",
   "mimetype": "text/x-python",
   "name": "python",
   "nbconvert_exporter": "python",
   "pygments_lexer": "ipython3",
   "version": "3.9.12"
  }
 },
 "nbformat": 4,
 "nbformat_minor": 5
}
